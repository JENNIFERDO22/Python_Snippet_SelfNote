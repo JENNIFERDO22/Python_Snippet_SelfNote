{
 "cells": [
  {
   "cell_type": "code",
   "execution_count": 1,
   "metadata": {},
   "outputs": [
    {
     "name": "stdout",
     "output_type": "stream",
     "text": [
      "Len of emptySet 0\n"
     ]
    }
   ],
   "source": [
    "emptySet = set() \n",
    "# not emptySet = {} because it is for dictionary\n",
    "\n",
    "print('Len of emptySet', len(emptySet))"
   ]
  },
  {
   "cell_type": "code",
   "execution_count": 2,
   "metadata": {},
   "outputs": [
    {
     "name": "stdout",
     "output_type": "stream",
     "text": [
      "{1, 2, 4, 5, 7, 9}\n"
     ]
    }
   ],
   "source": [
    "basket = {9, 5, 7, 1, 2, 4, 2, 9, 7, 5}\n",
    "print(basket)"
   ]
  },
  {
   "cell_type": "code",
   "execution_count": 3,
   "metadata": {},
   "outputs": [
    {
     "data": {
      "text/plain": [
       "True"
      ]
     },
     "execution_count": 3,
     "metadata": {},
     "output_type": "execute_result"
    }
   ],
   "source": [
    "1 in basket"
   ]
  },
  {
   "cell_type": "code",
   "execution_count": 4,
   "metadata": {},
   "outputs": [
    {
     "name": "stdout",
     "output_type": "stream",
     "text": [
      "{'l', 'g', 'a', 't', 'm', 'n', 'u', 'c', 'h', 'y', 'o'}\n",
      "{'h', 'a', 'e', 'u', 'y', 'l', 'k', 'o', 'r'}\n"
     ]
    }
   ],
   "source": [
    "a = set('chucmotngaytotlanh')\n",
    "b = set('helloareyouok')\n",
    "\n",
    "print(a)\n",
    "print(b)"
   ]
  },
  {
   "cell_type": "code",
   "execution_count": 5,
   "metadata": {},
   "outputs": [
    {
     "name": "stdout",
     "output_type": "stream",
     "text": [
      "{'g', 't', 'm', 'n', 'c'}\n",
      "{'g', 't', 'm', 'n', 'c'}\n"
     ]
    }
   ],
   "source": [
    "# in a but not b\n",
    "print(a - b)\n",
    "\n",
    "intersection = {letter for letter in a if letter not in b}\n",
    "print(intersection)"
   ]
  },
  {
   "cell_type": "code",
   "execution_count": 6,
   "metadata": {},
   "outputs": [
    {
     "data": {
      "text/plain": [
       "{'a', 'c', 'e', 'g', 'h', 'k', 'l', 'm', 'n', 'o', 'r', 't', 'u', 'y'}"
      ]
     },
     "execution_count": 6,
     "metadata": {},
     "output_type": "execute_result"
    }
   ],
   "source": [
    "# disjunction - in a or b or both\n",
    "a | b"
   ]
  },
  {
   "cell_type": "code",
   "execution_count": 7,
   "metadata": {},
   "outputs": [
    {
     "name": "stdout",
     "output_type": "stream",
     "text": [
      "{'h', 'a', 'u', 'y', 'l', 'o'}\n"
     ]
    }
   ],
   "source": [
    "# intersection - in a and b\n",
    "print(a & b)"
   ]
  },
  {
   "cell_type": "code",
   "execution_count": 8,
   "metadata": {},
   "outputs": [
    {
     "data": {
      "text/plain": [
       "{'c', 'e', 'g', 'k', 'm', 'n', 'r', 't'}"
      ]
     },
     "execution_count": 8,
     "metadata": {},
     "output_type": "execute_result"
    }
   ],
   "source": [
    "# XOR - in a or b only but not both\n",
    "a ^ b"
   ]
  }
 ],
 "metadata": {
  "kernelspec": {
   "display_name": "Python 3",
   "language": "python",
   "name": "python3"
  },
  "language_info": {
   "codemirror_mode": {
    "name": "ipython",
    "version": 3
   },
   "file_extension": ".py",
   "mimetype": "text/x-python",
   "name": "python",
   "nbconvert_exporter": "python",
   "pygments_lexer": "ipython3",
   "version": "3.7.3"
  }
 },
 "nbformat": 4,
 "nbformat_minor": 2
}
