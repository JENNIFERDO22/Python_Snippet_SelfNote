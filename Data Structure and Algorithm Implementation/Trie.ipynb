{
 "cells": [
  {
   "cell_type": "code",
   "execution_count": 20,
   "metadata": {},
   "outputs": [],
   "source": [
    "class Node:\n",
    "    def __init__(self):\n",
    "        self.children = {}\n",
    "        self.line_indice = []\n",
    "    \n",
    "    def add_and_get_next_child(self, char):\n",
    "        if not self.contains(char):\n",
    "            grandchild = Node()\n",
    "            self.children[char] = grandchild\n",
    "            return grandchild\n",
    "        else:\n",
    "            self.get_grandchild()\n",
    "      \n",
    "    def add_index(self, index):\n",
    "        self.line_indice.append(index)\n",
    "        \n",
    "    def get_indice(self):\n",
    "        return self.line_indice\n",
    "    \n",
    "    def contains(self, char):\n",
    "        return char in self.children\n",
    "    \n",
    "    def get_grandchild(self, char):\n",
    "        return self.children[char]\n",
    "    \n",
    "    def print_node(self):\n",
    "        print(self.children)\n",
    "        print(self.line_indice)\n",
    "        "
   ]
  },
  {
   "cell_type": "code",
   "execution_count": 21,
   "metadata": {},
   "outputs": [],
   "source": [
    "class Trie:\n",
    "    def __init__(self):\n",
    "        self.root = Node()\n",
    "        \n",
    "    def __insert(self, actor_name, line_num):  \n",
    "        curr = self.root\n",
    "        for char in actor_name:\n",
    "            curr = curr.add_and_get_next_child(char)\n",
    "        curr.add_index(line_num)\n",
    "    \n",
    "    def get_indice(self, actor_name):\n",
    "        curr = self.root\n",
    "        for char in actor_name:\n",
    "            if curr.contains(char):\n",
    "                curr = curr.get_grandchild(char)\n",
    "            else:\n",
    "                return None\n",
    "        return curr.get_indice()\n",
    "        \n",
    "    def build_trie(self, file_name):\n",
    "        line_num = 1\n",
    "        with open(file_name) as file:\n",
    "            actor_name = file.readline()\n",
    "            self.__insert(actor_name, line_num)\n",
    "            line_num += 1\n",
    "            \n",
    "    def print_trie(self):\n",
    "        self.root.print_node()\n",
    "        \n",
    "        "
   ]
  },
  {
   "cell_type": "code",
   "execution_count": 22,
   "metadata": {},
   "outputs": [
    {
     "name": "stdout",
     "output_type": "stream",
     "text": [
      "{'T': <__main__.Node object at 0x0000023CC25EFA90>}\n",
      "[]\n"
     ]
    },
    {
     "data": {
      "text/plain": [
       "[]"
      ]
     },
     "execution_count": 22,
     "metadata": {},
     "output_type": "execute_result"
    }
   ],
   "source": [
    "trie = Trie()\n",
    "trie.build_trie(\"actors.txt\")\n",
    "trie.print_trie()\n",
    "\n",
    "trie.get_indice(\"Tom Hank\")\n",
    "    "
   ]
  }
 ],
 "metadata": {
  "kernelspec": {
   "display_name": "Python 3",
   "language": "python",
   "name": "python3"
  },
  "language_info": {
   "codemirror_mode": {
    "name": "ipython",
    "version": 3
   },
   "file_extension": ".py",
   "mimetype": "text/x-python",
   "name": "python",
   "nbconvert_exporter": "python",
   "pygments_lexer": "ipython3",
   "version": "3.7.3"
  }
 },
 "nbformat": 4,
 "nbformat_minor": 2
}
