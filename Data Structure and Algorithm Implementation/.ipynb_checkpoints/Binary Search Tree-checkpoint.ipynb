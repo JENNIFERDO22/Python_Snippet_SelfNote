{
 "cells": [
  {
   "cell_type": "code",
   "execution_count": 1,
   "metadata": {},
   "outputs": [],
   "source": [
    "class Node:\n",
    "    def __init__(self, data):\n",
    "        self.data = data\n",
    "        self.left_child = None\n",
    "        self.right_child = None\n",
    "        "
   ]
  },
  {
   "cell_type": "code",
   "execution_count": 32,
   "metadata": {},
   "outputs": [],
   "source": [
    "class BST:\n",
    "    def __init__(self):\n",
    "        self.root = None\n",
    "    \n",
    "    def insert(self, data):\n",
    "        if self.root == None:\n",
    "            self.root = Node(data)\n",
    "        else:\n",
    "            parent = curr = self.root\n",
    "            while (curr != None):\n",
    "                parent = curr\n",
    "                if data <= curr.data:\n",
    "                    curr = curr.left_child\n",
    "                else:\n",
    "                    curr = curr.right_child\n",
    "            \n",
    "            if data <= parent.data:\n",
    "                    parent.left_child = Node(data)\n",
    "            else:\n",
    "                    parent.right_child = Node(data)\n",
    "                    \n",
    "    def search(self, data):\n",
    "        curr = self.root\n",
    "        \n",
    "    def __preorder_search(node, data):\n",
    "        curr_data = node.data\n",
    "        if curr_data == data:\n",
    "            return true\n",
    "        elif data < curr_data:\n",
    "            \n",
    "            \n",
    "            \n",
    "            \n",
    "    def print_all(self):\n",
    "        BST.__preorder_print(self.root)\n",
    "        \n",
    "#         static method\n",
    "    def __preorder_print(node):\n",
    "        if (node != None):\n",
    "            print(node.data)\n",
    "            BST.__preorder_print(node.left_child)\n",
    "            BST.__preorder_print(node.right_child)\n",
    "        \n",
    "        "
   ]
  },
  {
   "cell_type": "code",
   "execution_count": 33,
   "metadata": {},
   "outputs": [
    {
     "name": "stdout",
     "output_type": "stream",
     "text": [
      "10\n",
      "5\n",
      "4\n",
      "6\n",
      "20\n",
      "28\n"
     ]
    }
   ],
   "source": [
    "tree = BST()\n",
    "tree.insert(10)\n",
    "tree.insert(20)\n",
    "tree.insert(5)\n",
    "tree.insert(4)\n",
    "tree.insert(6)\n",
    "tree.insert(28)\n",
    "\n",
    "tree.print_all()"
   ]
  }
 ],
 "metadata": {
  "kernelspec": {
   "display_name": "Python 3",
   "language": "python",
   "name": "python3"
  },
  "language_info": {
   "codemirror_mode": {
    "name": "ipython",
    "version": 3
   },
   "file_extension": ".py",
   "mimetype": "text/x-python",
   "name": "python",
   "nbconvert_exporter": "python",
   "pygments_lexer": "ipython3",
   "version": "3.7.3"
  }
 },
 "nbformat": 4,
 "nbformat_minor": 2
}
