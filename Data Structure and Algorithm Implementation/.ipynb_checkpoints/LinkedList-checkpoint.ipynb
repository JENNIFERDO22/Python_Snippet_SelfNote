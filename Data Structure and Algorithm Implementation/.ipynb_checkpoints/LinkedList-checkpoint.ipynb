{
 "cells": [
  {
   "cell_type": "markdown",
   "metadata": {},
   "source": [
    "## 1. Single Linked List"
   ]
  },
  {
   "cell_type": "code",
   "execution_count": 8,
   "metadata": {},
   "outputs": [
    {
     "name": "stdout",
     "output_type": "stream",
     "text": [
      "Element 8 is not in the list\n",
      "12\t21\t83\t82\n"
     ]
    }
   ],
   "source": [
    "class Node:\n",
    "    def __init__(self, value, next):\n",
    "        self.value = value\n",
    "        self.next = next\n",
    "        \n",
    "class SingleLinkedList():\n",
    "    def __init__(self):\n",
    "        self.head = None\n",
    "        \n",
    "    def add_element(self, value):\n",
    "        n = Node(value, None)\n",
    "        \n",
    "        if self.head == None:\n",
    "            self.head = n\n",
    "        else:\n",
    "            prev = self.head\n",
    "            while (prev.next != None):\n",
    "                prev = prev.next\n",
    "            prev.next = n\n",
    "            \n",
    "    def print_list(self):\n",
    "        if self.head is None:\n",
    "            print('List is empty')\n",
    "            return\n",
    "        else:\n",
    "            prev = self.head\n",
    "            while (prev.next is not None):\n",
    "                print(prev.value, end='\\t')\n",
    "                prev = prev.next\n",
    "            print(prev.value)\n",
    "            \n",
    "            \n",
    "    def remove_element(self, value):\n",
    "        curr = self.head\n",
    "        prev = None\n",
    "        \n",
    "        while (curr != None and curr.value != None):\n",
    "            if curr.value == value:\n",
    "                if prev == None:\n",
    "                    self.head = None\n",
    "                else:\n",
    "                    prev.next = curr.next\n",
    "                    return\n",
    "            else:\n",
    "                prev = curr\n",
    "                curr = curr.next\n",
    "        \n",
    "        print('Element', value, add_element'is not in the list')\n",
    "                \n",
    "\n",
    "linked_list = SingleLinkedList()\n",
    "linked_list.add_element(12)\n",
    "linked_list.add_element(21)\n",
    "linked_list.add_element(83)\n",
    "linked_list.add_element(82)\n",
    "\n",
    "linked_list.remove_element(8)\n",
    "\n",
    "linked_list.print_list()\n",
    "        "
   ]
  },
  {
   "cell_type": "markdown",
   "metadata": {},
   "source": [
    "## 2. Double Linked List"
   ]
  },
  {
   "cell_type": "code",
   "execution_count": 25,
   "metadata": {},
   "outputs": [
    {
     "name": "stdout",
     "output_type": "stream",
     "text": [
      "Element 8 is not in the list\n",
      "12\t21\t83\t82\t"
     ]
    }
   ],
   "source": [
    "class Node:\n",
    "    def __init__(self, value, prev, next):\n",
    "        self.value = value\n",
    "        self.prev = prev\n",
    "        self.next = next\n",
    "        \n",
    "class DoubleLinkedList:\n",
    "    def __init__(self):\n",
    "        self.head, self.tail = None, None\n",
    "        \n",
    "    def add_element(self, e):\n",
    "        prev_tail = self.tail\n",
    "        self.tail = Node(e, prev_tail, None)\n",
    "        \n",
    "        if self.head == None:\n",
    "            self.head = self.tail\n",
    "        elif self.head.next == None: \n",
    "            self.head.next = self.tail\n",
    "            self.tail.prev = self.head\n",
    "            \n",
    "        if prev_tail != None:\n",
    "            prev_tail.next = self.tail\n",
    "            \n",
    "    def remove_element(self, e):\n",
    "        if self.head == None:\n",
    "            print('Empty list - cannot remove')\n",
    "            return\n",
    "        else:\n",
    "            curr = self.head\n",
    "            while (curr != None):\n",
    "                if curr.value != e:\n",
    "                    curr = curr.next\n",
    "                else:\n",
    "                    prev_curr = curr.prev\n",
    "                    next_curr = curr.next\n",
    "                    prev_curr.next = next_curr\n",
    "                    next_curr.prev = prev_curr\n",
    "                    return\n",
    "                \n",
    "            print('Element', e, 'is not in the list')\n",
    "            \n",
    "    def print_list(self):\n",
    "        if self.head is None:\n",
    "            print('List is empty')\n",
    "            return\n",
    "        else:\n",
    "            curr = self.head\n",
    "            while (curr is not None):\n",
    "                print(curr.value, end='\\t')\n",
    "                curr = curr.next\n",
    "            \n",
    "                \n",
    "\n",
    "linked_list = DoubleLinkedList()\n",
    "linked_list.add_element(12)\n",
    "linked_list.add_element(21)\n",
    "linked_list.add_element(83)\n",
    "linked_list.add_element(82)\n",
    "\n",
    "linked_list.remove_element(8)\n",
    "\n",
    "linked_list.print_list()"
   ]
  }
 ],
 "metadata": {
  "kernelspec": {
   "display_name": "Python 3",
   "language": "python",
   "name": "python3"
  },
  "language_info": {
   "codemirror_mode": {
    "name": "ipython",
    "version": 3
   },
   "file_extension": ".py",
   "mimetype": "text/x-python",
   "name": "python",
   "nbconvert_exporter": "python",
   "pygments_lexer": "ipython3",
   "version": "3.7.3"
  }
 },
 "nbformat": 4,
 "nbformat_minor": 2
}
