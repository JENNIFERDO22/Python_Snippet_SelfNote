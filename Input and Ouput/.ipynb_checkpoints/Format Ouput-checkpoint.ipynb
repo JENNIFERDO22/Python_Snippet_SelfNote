{
 "cells": [
  {
   "cell_type": "markdown",
   "metadata": {},
   "source": [
    "## 1. Formatted string literals f-string"
   ]
  },
  {
   "cell_type": "code",
   "execution_count": 1,
   "metadata": {},
   "outputs": [
    {
     "name": "stdout",
     "output_type": "stream",
     "text": [
      "The biggest Coference of 2019\n"
     ]
    }
   ],
   "source": [
    "year = 2019\n",
    "event = 'Coference'\n",
    "print(f'The biggest {event} of {year}')"
   ]
  },
  {
   "cell_type": "code",
   "execution_count": 2,
   "metadata": {},
   "outputs": [
    {
     "name": "stdout",
     "output_type": "stream",
     "text": [
      "Jack       ====>       2334\n",
      "Duy        ====>       7566\n",
      "Tap        ====>       9645\n"
     ]
    }
   ],
   "source": [
    "students = {'Jack': 2334, 'Duy': 7566, 'Tap': 9645}\n",
    "for name, id in students.items():\n",
    "    print(f'{name:10} ====> {id:10}')"
   ]
  },
  {
   "cell_type": "markdown",
   "metadata": {},
   "source": [
    "## 2. str.format()"
   ]
  },
  {
   "cell_type": "code",
   "execution_count": 3,
   "metadata": {},
   "outputs": [
    {
     "name": "stdout",
     "output_type": "stream",
     "text": [
      "  23234328 YES vote, which count for 50.11%\n",
      "            23234328 YES vote, which count for 50.11%\n"
     ]
    }
   ],
   "source": [
    "yes_vote = 23_234_328\n",
    "no_vote = 23_128_282\n",
    "percentage = yes_vote / (yes_vote + no_vote)\n",
    "\n",
    "print('{:-10} YES vote, which count for {:2.2%}'.format(yes_vote, percentage))\n",
    "print('{:-20} YES vote, which count for {:2.2%}'.format(yes_vote, percentage))\n",
    "\n",
    "# -10 or -20 -> min number of characters wide"
   ]
  },
  {
   "cell_type": "code",
   "execution_count": 4,
   "metadata": {},
   "outputs": [
    {
     "name": "stdout",
     "output_type": "stream",
     "text": [
      "Hello, we are Tap and Trang\n",
      "Hello, we are Trang and Tap\n"
     ]
    }
   ],
   "source": [
    "print('Hello, we are {0} and {1}'.format('Tap', 'Trang'))\n",
    "print('Hello, we are {1} and {0}'.format('Tap', 'Trang'))"
   ]
  },
  {
   "cell_type": "code",
   "execution_count": 5,
   "metadata": {},
   "outputs": [
    {
     "name": "stdout",
     "output_type": "stream",
     "text": [
      "banh xeo is delicious\n"
     ]
    }
   ],
   "source": [
    "print('{food} is {adj}'.format(food = 'banh xeo', adj = 'delicious'))"
   ]
  },
  {
   "cell_type": "code",
   "execution_count": 6,
   "metadata": {},
   "outputs": [
    {
     "name": "stdout",
     "output_type": "stream",
     "text": [
      "The story of 3 kids Dae, Hook and Puu\n"
     ]
    }
   ],
   "source": [
    "print('The story of 3 kids {0}, {1} and {other}'.format('Dae', 'Hook', other = 'Puu'))"
   ]
  },
  {
   "cell_type": "code",
   "execution_count": 7,
   "metadata": {},
   "outputs": [
    {
     "name": "stdout",
     "output_type": "stream",
     "text": [
      "Duy 293 \n",
      "Tap 234\n"
     ]
    }
   ],
   "source": [
    "table = {'duy': 293, 'tap': 234, 'trang': 343}\n",
    "print('Duy {0[duy]:d} \\nTap {0[tap]:d}'.format(table))"
   ]
  },
  {
   "cell_type": "code",
   "execution_count": 8,
   "metadata": {},
   "outputs": [
    {
     "name": "stdout",
     "output_type": "stream",
     "text": [
      " 1    1      1\n",
      " 2    4      8\n",
      " 3    9     27\n",
      " 4   16     64\n",
      " 5   25    125\n",
      " 6   36    216\n",
      " 7   49    343\n",
      " 8   64    512\n",
      " 9   81    729\n",
      "10  100   1000\n"
     ]
    }
   ],
   "source": [
    "for i in range(1, 11):\n",
    "    print('{0:2d} {1:4d} {2:6d}'.format(i, i**2, i**3))"
   ]
  },
  {
   "cell_type": "markdown",
   "metadata": {},
   "source": [
    "## 3. Simple representation"
   ]
  },
  {
   "cell_type": "code",
   "execution_count": 9,
   "metadata": {},
   "outputs": [
    {
     "name": "stdout",
     "output_type": "stream",
     "text": [
      "'Hello World!\\n'\n",
      "Hello World!\n",
      "\n"
     ]
    }
   ],
   "source": [
    "s = 'Hello World!\\n'\n",
    "\n",
    "interpreter = repr(s)\n",
    "human = str(s)\n",
    "\n",
    "print(interpreter)\n",
    "print(human)"
   ]
  },
  {
   "cell_type": "code",
   "execution_count": 10,
   "metadata": {},
   "outputs": [
    {
     "data": {
      "text/plain": [
       "'00012'"
      ]
     },
     "execution_count": 10,
     "metadata": {},
     "output_type": "execute_result"
    }
   ],
   "source": [
    "'12'.zfill(5)"
   ]
  },
  {
   "cell_type": "code",
   "execution_count": 11,
   "metadata": {},
   "outputs": [
    {
     "name": "stdout",
     "output_type": "stream",
     "text": [
      "Pi = 3.14159\n"
     ]
    }
   ],
   "source": [
    "import math\n",
    "print('Pi = %5.5f' % math.pi)"
   ]
  }
 ],
 "metadata": {
  "kernelspec": {
   "display_name": "Python 3",
   "language": "python",
   "name": "python3"
  },
  "language_info": {
   "codemirror_mode": {
    "name": "ipython",
    "version": 3
   },
   "file_extension": ".py",
   "mimetype": "text/x-python",
   "name": "python",
   "nbconvert_exporter": "python",
   "pygments_lexer": "ipython3",
   "version": "3.7.3"
  }
 },
 "nbformat": 4,
 "nbformat_minor": 2
}
