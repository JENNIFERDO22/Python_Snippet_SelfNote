{
 "cells": [
  {
   "cell_type": "code",
   "execution_count": 1,
   "metadata": {},
   "outputs": [
    {
     "name": "stdout",
     "output_type": "stream",
     "text": [
      "list\n",
      "1\t2\t4\t\n",
      "\n",
      "tuple\n",
      "1\t2\t4\t\n",
      "\n",
      "dict\n",
      "1\t2\t\n",
      "\n",
      "string\n",
      "h\te\tl\tl\to\t\n",
      "\n",
      "file\n",
      "Hello, today is a good day. How are you today?\n",
      "\n",
      "I am good. How about you?\n",
      "\n",
      "Wonderful.\n",
      "\n",
      "\n"
     ]
    }
   ],
   "source": [
    "# iterable: list, tuple, dict, string, file\n",
    "\n",
    "print('list')\n",
    "for element in [1, 2, 4]:\n",
    "    print(element, end='\\t')\n",
    "print('\\n')\n",
    "\n",
    "print('tuple')\n",
    "for e in (1, 2, 4):\n",
    "    print(e, end='\\t')\n",
    "print('\\n')\n",
    "\n",
    "print('dict')\n",
    "for key in {1: 'one', 2: 'two'}:\n",
    "    print(key, end='\\t')\n",
    "print('\\n')\n",
    "\n",
    "print('string')\n",
    "for char in 'hello':\n",
    "    print(char, end='\\t')\n",
    "print('\\n')\n",
    "\n",
    "print('file')\n",
    "for line in open(\"../Input and Ouput/text.txt\"):\n",
    "    print(line)\n",
    "print('\\n')"
   ]
  },
  {
   "cell_type": "code",
   "execution_count": 2,
   "metadata": {},
   "outputs": [
    {
     "name": "stdout",
     "output_type": "stream",
     "text": [
      "a\n",
      "b\n"
     ]
    }
   ],
   "source": [
    "s = 'abdu'\n",
    "iterator = iter(s)\n",
    "print(next(iterator))\n",
    "\n",
    "print(iterator.__next__())"
   ]
  }
 ],
 "metadata": {
  "kernelspec": {
   "display_name": "Python 3",
   "language": "python",
   "name": "python3"
  },
  "language_info": {
   "codemirror_mode": {
    "name": "ipython",
    "version": 3
   },
   "file_extension": ".py",
   "mimetype": "text/x-python",
   "name": "python",
   "nbconvert_exporter": "python",
   "pygments_lexer": "ipython3",
   "version": "3.7.3"
  }
 },
 "nbformat": 4,
 "nbformat_minor": 2
}
