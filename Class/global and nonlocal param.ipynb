{
 "cells": [
  {
   "cell_type": "code",
   "execution_count": 7,
   "metadata": {},
   "outputs": [
    {
     "name": "stdout",
     "output_type": "stream",
     "text": [
      "After do_local:    test spam \n",
      "After do_nonlocal:    nonlocal spam\n",
      "After do_global:    nonlocal spam\n",
      "Global scope:    global spam\n"
     ]
    }
   ],
   "source": [
    "def scope_test():\n",
    "#     change the spam of the do_local function\n",
    "    def do_local():\n",
    "        spam = \"local spam\"\n",
    "        \n",
    "#         spam of scope_test\n",
    "    def do_nonlocal():\n",
    "        nonlocal spam\n",
    "        spam = \"nonlocal spam\"\n",
    "        \n",
    "#         spam of global\n",
    "    def do_global():\n",
    "        global spam\n",
    "        spam = \"global spam\"\n",
    "        \n",
    "    spam = \"test spam\"\n",
    "    do_local()\n",
    "    print(\"After do_local:    {:10}\".format(spam))\n",
    "    \n",
    "    do_nonlocal()\n",
    "    print(\"After do_nonlocal:    {:10}\".format(spam))\n",
    "    \n",
    "    do_global()\n",
    "    print(\"After do_global:    {:10}\".format(spam))\n",
    "    \n",
    "scope_test()\n",
    "print(\"Global scope:    {:10}\".format(spam))"
   ]
  }
 ],
 "metadata": {
  "kernelspec": {
   "display_name": "Python 3",
   "language": "python",
   "name": "python3"
  },
  "language_info": {
   "codemirror_mode": {
    "name": "ipython",
    "version": 3
   },
   "file_extension": ".py",
   "mimetype": "text/x-python",
   "name": "python",
   "nbconvert_exporter": "python",
   "pygments_lexer": "ipython3",
   "version": "3.7.3"
  }
 },
 "nbformat": 4,
 "nbformat_minor": 2
}
