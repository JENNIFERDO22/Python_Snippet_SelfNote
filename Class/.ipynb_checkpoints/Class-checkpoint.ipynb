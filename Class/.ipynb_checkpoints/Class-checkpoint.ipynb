{
 "cells": [
  {
   "cell_type": "code",
   "execution_count": 3,
   "metadata": {},
   "outputs": [
    {
     "name": "stdout",
     "output_type": "stream",
     "text": [
      "Hello 124\n"
     ]
    }
   ],
   "source": [
    "class MyFirst:\n",
    "    \"\"\"Just an example\"\"\"\n",
    "    i = 124\n",
    "    \n",
    "#     constructor\n",
    "    def __init__(self):\n",
    "        self.data = 91\n",
    "    \n",
    "    def say(self):\n",
    "        print(\"Hello\", self.i)\n",
    "        \n",
    "greeting = MyFirst()\n",
    "greeting.say()"
   ]
  },
  {
   "cell_type": "code",
   "execution_count": 26,
   "metadata": {},
   "outputs": [
    {
     "name": "stdout",
     "output_type": "stream",
     "text": [
      "[23, (1, 'Ala'), (2, 'Puka')]\n"
     ]
    }
   ],
   "source": [
    "class Mapping:\n",
    "    \"\"\"Mapping - Parent class\"\"\"\n",
    "#     _spam - non-publics\n",
    "#     __spam - private\n",
    "    def __init__(self, iterable):\n",
    "        self.items_list = []\n",
    "        \n",
    "# without this, object will refer to update function of MappingSubClass\n",
    "        self.__update(iterable)\n",
    "        \n",
    "        \n",
    "    def update(self, iterable):\n",
    "        for item in iterable:\n",
    "            self.items_list.append(item)\n",
    "            \n",
    "#   private function \n",
    "    __update = update \n",
    "    \n",
    "    def printInfo(self):\n",
    "        print(self.items_list)\n",
    "    \n",
    "    \n",
    "class MappingSubClass(Mapping):\n",
    "    # override update\n",
    "    def update(self, keys, values):\n",
    "        for item in zip(keys, values):\n",
    "            self.items_list.append(item)\n",
    "     \n",
    "empty_list = [23]\n",
    "sub = MappingSubClass(empty_list)\n",
    "sub.update([1, 2], ['Ala', 'Puka'])\n",
    "sub.printInfo()\n",
    "\n"
   ]
  },
  {
   "cell_type": "code",
   "execution_count": 12,
   "metadata": {},
   "outputs": [
    {
     "name": "stdout",
     "output_type": "stream",
     "text": [
      "Info of the dog\n",
      "Kind: dog \n",
      "Name: Pi\n",
      "Trick: ['roll over', 'play dead']\n"
     ]
    }
   ],
   "source": [
    "class Dog:\n",
    "    kind = 'dog'\n",
    "    tricks = []\n",
    "    \n",
    "    def __init__(self, name):\n",
    "        self.name = name\n",
    "        \n",
    "    def printInfo(self):\n",
    "        print('Info of the dog')\n",
    "        print('Kind:', self.kind, '\\nName:', self.name)\n",
    "        print('Trick:', self.tricks)\n",
    "        \n",
    "    def add_trick(self, trick):\n",
    "        self.tricks.append(trick)\n",
    "        \n",
    "        \n",
    "dog1 = Dog('Pi')\n",
    "dog1.add_trick('roll over')\n",
    "dog1.add_trick('play dead')\n",
    "dog1.printInfo()"
   ]
  }
 ],
 "metadata": {
  "kernelspec": {
   "display_name": "Python 3",
   "language": "python",
   "name": "python3"
  },
  "language_info": {
   "codemirror_mode": {
    "name": "ipython",
    "version": 3
   },
   "file_extension": ".py",
   "mimetype": "text/x-python",
   "name": "python",
   "nbconvert_exporter": "python",
   "pygments_lexer": "ipython3",
   "version": "3.7.3"
  }
 },
 "nbformat": 4,
 "nbformat_minor": 2
}
