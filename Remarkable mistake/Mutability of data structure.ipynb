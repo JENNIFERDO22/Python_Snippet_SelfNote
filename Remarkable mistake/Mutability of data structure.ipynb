{
 "cells": [
  {
   "cell_type": "markdown",
   "metadata": {},
   "source": [
    "# 1. List - Mutable"
   ]
  },
  {
   "cell_type": "markdown",
   "metadata": {},
   "source": [
    "## 1.1. Copy list"
   ]
  },
  {
   "cell_type": "markdown",
   "metadata": {},
   "source": [
    "### Not recommend: copy = list"
   ]
  },
  {
   "cell_type": "markdown",
   "metadata": {},
   "source": [
    "copy and list point to the same address. When one of them changes, the other one changes too."
   ]
  },
  {
   "cell_type": "code",
   "execution_count": 10,
   "metadata": {},
   "outputs": [
    {
     "name": "stdout",
     "output_type": "stream",
     "text": [
      "[1, 'copy1', 9, 25]\n",
      "[1, 'copy1', 9, 25]\n"
     ]
    }
   ],
   "source": [
    "list = [1, 4, 9, 25]\n",
    "copy = list\n",
    "\n",
    "copy[1] = 'copy1'\n",
    "print(list)\n",
    "print(copy)"
   ]
  },
  {
   "cell_type": "markdown",
   "metadata": {},
   "source": [
    "### Recommend: copy2 = list[:]"
   ]
  },
  {
   "cell_type": "markdown",
   "metadata": {},
   "source": [
    "copy2 is assigned to new address. list and copy2 are irrelated."
   ]
  },
  {
   "cell_type": "code",
   "execution_count": 12,
   "metadata": {},
   "outputs": [
    {
     "name": "stdout",
     "output_type": "stream",
     "text": [
      "['list', 4, 9, 25]\n",
      "[1, 'copy2', 9, 25]\n"
     ]
    }
   ],
   "source": [
    "list = [1, 4, 9, 25]\n",
    "copy2 = list[:]\n",
    "copy2[1] = 'copy2'\n",
    "list[0] = 'list'\n",
    "\n",
    "print(list)\n",
    "print(copy2)"
   ]
  },
  {
   "cell_type": "markdown",
   "metadata": {},
   "source": [
    "## 1.2. Clear list"
   ]
  },
  {
   "cell_type": "markdown",
   "metadata": {},
   "source": [
    "### Not recommend: list = []"
   ]
  },
  {
   "cell_type": "markdown",
   "metadata": {},
   "source": [
    "list is assgined to new address. The old address is kept."
   ]
  },
  {
   "cell_type": "code",
   "execution_count": 13,
   "metadata": {},
   "outputs": [
    {
     "name": "stdout",
     "output_type": "stream",
     "text": [
      "[]\n",
      "[1, 4, 9, 25]\n"
     ]
    }
   ],
   "source": [
    "list = [1, 4, 9, 25]\n",
    "copy = list\n",
    "list = []\n",
    "\n",
    "print(list)\n",
    "print(copy)"
   ]
  },
  {
   "cell_type": "markdown",
   "metadata": {},
   "source": [
    "### Recommend: list[:] = []"
   ]
  },
  {
   "cell_type": "code",
   "execution_count": 15,
   "metadata": {},
   "outputs": [
    {
     "name": "stdout",
     "output_type": "stream",
     "text": [
      "[]\n",
      "[]\n"
     ]
    }
   ],
   "source": [
    "list = [1, 4, 9, 25]\n",
    "copy = list\n",
    "list[:] = []\n",
    "\n",
    "print(list)\n",
    "print(copy)"
   ]
  },
  {
   "cell_type": "code",
   "execution_count": null,
   "metadata": {},
   "outputs": [],
   "source": []
  }
 ],
 "metadata": {
  "kernelspec": {
   "display_name": "Python 3",
   "language": "python",
   "name": "python3"
  },
  "language_info": {
   "codemirror_mode": {
    "name": "ipython",
    "version": 3
   },
   "file_extension": ".py",
   "mimetype": "text/x-python",
   "name": "python",
   "nbconvert_exporter": "python",
   "pygments_lexer": "ipython3",
   "version": "3.7.3"
  }
 },
 "nbformat": 4,
 "nbformat_minor": 2
}
